{
 "cells": [
  {
   "cell_type": "code",
   "execution_count": 1,
   "id": "0b3d1a13-d05b-4165-8ba1-7e2c83277d67",
   "metadata": {
    "scrolled": true
   },
   "outputs": [],
   "source": [
    "import numpy as np\n",
    "import matplotlib.pyplot as plt\n",
    "import cv2"
   ]
  },
  {
   "cell_type": "markdown",
   "id": "ea3a8d56-4ab8-4865-bd3d-7dea0f308d56",
   "metadata": {},
   "source": [
    "#### Preprocessing"
   ]
  },
  {
   "cell_type": "code",
   "execution_count": 2,
   "id": "34ce8267-c9ec-4fd4-86e7-3afedae7e77f",
   "metadata": {},
   "outputs": [],
   "source": [
    "#Detect and crop face and eyes"
   ]
  },
  {
   "cell_type": "code",
   "execution_count": 3,
   "id": "3b2da80c-996b-46fe-a820-58b7fb5bc62a",
   "metadata": {},
   "outputs": [],
   "source": [
    "face_cascade = cv2.CascadeClassifier('./opencv/haarcascades/haarcascade_frontalface_default.xml')\n",
    "eye_cascade = cv2.CascadeClassifier('./opencv/haarcascades/haarcascade_eye.xml')\n"
   ]
  },
  {
   "cell_type": "code",
   "execution_count": 4,
   "id": "23483bab-340a-45f3-ae00-61a69b54cb6f",
   "metadata": {},
   "outputs": [],
   "source": [
    "def get_cropped_image_with_2eyes(image_path):\n",
    "    img = cv2.imread(image_path)\n",
    "    gray = cv2.cvtColor(img, cv2.COLOR_BGR2GRAY)\n",
    "    faces = face_cascade.detectMultiScale(gray, 1.3, 5)\n",
    "    for (x,y,w,h) in faces:\n",
    "        roi_gray = gray[y:y+h, x:x+w]\n",
    "        roi_color = img[y:y+h, x:x+w]\n",
    "        eyes = eye_cascade.detectMultiScale(roi_gray)\n",
    "        if len(eyes)>=2:\n",
    "            return  roi_color"
   ]
  },
  {
   "cell_type": "code",
   "execution_count": 5,
   "id": "fc11f0ee-2e72-4ff2-82e1-674bff46718f",
   "metadata": {},
   "outputs": [],
   "source": [
    "path_to_data = \"./Dataset/\"\n",
    "path_to_cr_data = \"./Dataset/cropped/\""
   ]
  },
  {
   "cell_type": "code",
   "execution_count": 6,
   "id": "2100b6b3-6cf8-47ca-9dcb-789af44b63f3",
   "metadata": {},
   "outputs": [],
   "source": [
    "import os\n",
    "img_dirs = []\n",
    "for entry in os.scandir(path_to_data):\n",
    "    if entry.is_dir():\n",
    "        img_dirs.append(entry.path)\n"
   ]
  },
  {
   "cell_type": "code",
   "execution_count": 7,
   "id": "f9b3a364-edf2-4304-9504-a0fa1b1c786f",
   "metadata": {},
   "outputs": [
    {
     "data": {
      "text/plain": [
       "['./Dataset/cropped',\n",
       " './Dataset/lionel_messi',\n",
       " './Dataset/maria_sharapova',\n",
       " './Dataset/roger_federer',\n",
       " './Dataset/serena_williams',\n",
       " './Dataset/virat_kohli']"
      ]
     },
     "execution_count": 7,
     "metadata": {},
     "output_type": "execute_result"
    }
   ],
   "source": [
    "img_dirs"
   ]
  },
  {
   "cell_type": "code",
   "execution_count": 8,
   "id": "2a818160-6085-4b2e-9efe-769eeab5c684",
   "metadata": {},
   "outputs": [],
   "source": [
    "import shutil\n",
    "if os.path.exists(path_to_cr_data):\n",
    "    shutil.rmtree(path_to_cr_data)\n",
    "os.mkdir(path_to_cr_data)"
   ]
  },
  {
   "cell_type": "code",
   "execution_count": 9,
   "id": "197a9346-7a6d-44e0-b869-58e26e45ef92",
   "metadata": {},
   "outputs": [
    {
     "name": "stdout",
     "output_type": "stream",
     "text": [
      "Generating cropped images in folder:  ./Dataset/cropped/lionel_messi\n",
      "Generating cropped images in folder:  ./Dataset/cropped/maria_sharapova\n",
      "Generating cropped images in folder:  ./Dataset/cropped/roger_federer\n",
      "Generating cropped images in folder:  ./Dataset/cropped/serena_williams\n",
      "Generating cropped images in folder:  ./Dataset/cropped/virat_kohli\n"
     ]
    }
   ],
   "source": [
    "celebrity_file_names_dict = {}\n",
    "for img_dir in img_dirs:\n",
    "    count = 1\n",
    "    celebrity_name = img_dir.split('/')[-1]\n",
    "    celebrity_file_names_dict[celebrity_name] = []\n",
    "    for entry in os.scandir(img_dir):\n",
    "        roi_color = get_cropped_image_with_2eyes(entry.path)\n",
    "        if roi_color is not None:\n",
    "            cropped_folder = path_to_cr_data + celebrity_name\n",
    "            if not os.path.exists(cropped_folder):\n",
    "                os.makedirs(cropped_folder)\n",
    "                print(\"Generating cropped images in folder: \",cropped_folder)\n",
    "            cropped_file_name = celebrity_name + str(count) + \".png\"\n",
    "            cropped_file_path = cropped_folder + \"/\" + cropped_file_name\n",
    "            cv2.imwrite(cropped_file_path, roi_color)\n",
    "            celebrity_file_names_dict[celebrity_name].append(cropped_file_path)\n",
    "            count += 1"
   ]
  },
  {
   "cell_type": "code",
   "execution_count": null,
   "id": "f1f51001-fb54-4e53-8d4a-5e2eb1bca276",
   "metadata": {},
   "outputs": [],
   "source": []
  }
 ],
 "metadata": {
  "kernelspec": {
   "display_name": "Python 3 (ipykernel)",
   "language": "python",
   "name": "python3"
  },
  "language_info": {
   "codemirror_mode": {
    "name": "ipython",
    "version": 3
   },
   "file_extension": ".py",
   "mimetype": "text/x-python",
   "name": "python",
   "nbconvert_exporter": "python",
   "pygments_lexer": "ipython3",
   "version": "3.12.4"
  }
 },
 "nbformat": 4,
 "nbformat_minor": 5
}
